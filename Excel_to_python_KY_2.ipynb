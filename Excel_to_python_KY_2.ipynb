{
 "cells": [
  {
   "cell_type": "code",
   "execution_count": null,
   "metadata": {},
   "outputs": [],
   "source": [
    "import pandas as pd\n",
    "#DataFrame\n",
    "\n",
    "df1 = pd.read_excel(\"merge_test1.xlsx\")\n",
    "df1.set_index(\"ID\", inplace = True) #인덱스 정보를 ID로 맞추기\n",
    "\n",
    "df2 = pd.read_excel(\"merge_test2.xlsx\")\n",
    "df2.set_index(\"ID\", inplace = True)\n",
    "\n",
    "df3 = pd.read_excel(\"merge_test3.xlsx\")\n",
    "df3.set_index(\"ID\", inplace =True)\n",
    "\n",
    "df1.head()\n"
   ]
  },
  {
   "cell_type": "code",
   "execution_count": null,
   "metadata": {},
   "outputs": [],
   "source": [
    "df_merge = pd.DataFrame()\n",
    "\"\"\"\n",
    "여기서 주의 점: 예제 엑셀 파일로 col 보여드리기\n",
    "\"\"\"\n",
    "df_merge[\"PWD\"] = df1[\"PWD\"]\n",
    "df_merge[\"Email\"] = df1[\"Email\"]\n",
    "df_merge[\"부서\"] = df1[\"부서\"]\n",
    "df_merge[\"담당자\"] = df1[\"담당자\"]\n",
    "df_merge[\"포부\"] = df2[\"포부\"]\n",
    "df_merge[\"성별\"] = df2[\"성별\"]\n",
    "df_merge[\"상점\"] = df3[\"상점\"]"
   ]
  },
  {
   "cell_type": "code",
   "execution_count": null,
   "metadata": {},
   "outputs": [],
   "source": [
    "df_merge.head()\n",
    "#상위 몇개의 줄을 보기 "
   ]
  },
  {
   "cell_type": "code",
   "execution_count": null,
   "metadata": {},
   "outputs": [],
   "source": [
    "#결과 저장\n",
    "df_merge.to_excel(\"result_merge_.xlsx\")"
   ]
  },
  {
   "cell_type": "code",
   "execution_count": null,
   "metadata": {},
   "outputs": [],
   "source": [
    "import openpyxl\n",
    "\n",
    "wb = openpyxl.load_workbook(\"result_merge_.xlsx\")\n",
    "sheet = wb.active #현재 활성화 되고있는 시트\n",
    "sheet"
   ]
  },
  {
   "cell_type": "code",
   "execution_count": null,
   "metadata": {},
   "outputs": [],
   "source": [
    "상점 = [row[0].value for row in sheet['H2':'H3']]\n",
    "상점"
   ]
  },
  {
   "cell_type": "code",
   "execution_count": 1,
   "metadata": {},
   "outputs": [
    {
     "ename": "NameError",
     "evalue": "name '상점' is not defined",
     "output_type": "error",
     "traceback": [
      "\u001b[1;31m---------------------------------------------------------------------------\u001b[0m",
      "\u001b[1;31mNameError\u001b[0m                                 Traceback (most recent call last)",
      "\u001b[1;32m<ipython-input-1-2d0a451703a0>\u001b[0m in \u001b[0;36m<module>\u001b[1;34m\u001b[0m\n\u001b[1;32m----> 1\u001b[1;33m \u001b[0mtotal\u001b[0m \u001b[1;33m=\u001b[0m \u001b[0m상점\u001b[0m\u001b[1;33m[\u001b[0m\u001b[1;36m0\u001b[0m\u001b[1;33m]\u001b[0m \u001b[1;33m+\u001b[0m \u001b[0m상점\u001b[0m\u001b[1;33m[\u001b[0m\u001b[1;36m1\u001b[0m\u001b[1;33m]\u001b[0m\u001b[1;33m\u001b[0m\u001b[1;33m\u001b[0m\u001b[0m\n\u001b[0m\u001b[0;32m      2\u001b[0m \u001b[1;31m#또는\u001b[0m\u001b[1;33m\u001b[0m\u001b[1;33m\u001b[0m\u001b[1;33m\u001b[0m\u001b[0m\n\u001b[0;32m      3\u001b[0m \u001b[0msum\u001b[0m\u001b[1;33m(\u001b[0m\u001b[0m상점\u001b[0m\u001b[1;33m)\u001b[0m\u001b[1;33m\u001b[0m\u001b[1;33m\u001b[0m\u001b[0m\n",
      "\u001b[1;31mNameError\u001b[0m: name '상점' is not defined"
     ]
    }
   ],
   "source": [
    "total = 상점[0] + 상점[1]\n",
    "#또는\n",
    "sum(상점)"
   ]
  },
  {
   "cell_type": "code",
   "execution_count": null,
   "metadata": {},
   "outputs": [],
   "source": [
    "sheet[\"A4\"].value = \"OO부서 인사정보\""
   ]
  },
  {
   "cell_type": "code",
   "execution_count": null,
   "metadata": {},
   "outputs": [],
   "source": [
    "wb.save(\"result_merge_.xlsx\")"
   ]
  },
  {
   "cell_type": "code",
   "execution_count": null,
   "metadata": {},
   "outputs": [],
   "source": [
    "import pandas as pd\n",
    "\n",
    "data1 = 'test_case.xlsx'\n",
    "data2 = 'test_case2.xlsx'\n",
    "\n",
    "df1 = pd.read_excel(data1)\n",
    "df2 = pd.read_excel(data2)\n",
    "# df1.transpose()\n",
    "\n",
    "df1 = pd.read_excel(data1, header =None).T#skiprows=[0,1,2]\n",
    "df2 = pd.read_excel(data2, header = None)\n",
    "#                                                              \n",
    "# df1.drop(['추정재무상태표 (단위 : 백만원)'], axis=1)\n",
    "# df1_transposed.info()\n",
    "# df1_transposed.columns = [\"현금및현금성자산\", \"매출채권\", \"대손충당금\", \"미수금\", \"대손충당금\"]\n",
    "df1[1]\n",
    "\n",
    "\n",
    "# df2.head()\n",
    "# df2[80][0:5]\n",
    "#select rows where price is greater than 10\n",
    "# df.loc[df[‘Price’] >= 10]\n",
    "# df2_transposed.iloc[0]['']\n",
    "# df2_transposed.at[0,]\n",
    "# val = d2['col_name'].values[0]\n",
    "\n",
    "# variable = df2_transposed[\"유동자산\"]\n"
   ]
  },
  {
   "cell_type": "code",
   "execution_count": null,
   "metadata": {},
   "outputs": [],
   "source": []
  },
  {
   "cell_type": "code",
   "execution_count": null,
   "metadata": {},
   "outputs": [],
   "source": []
  }
 ],
 "metadata": {
  "kernelspec": {
   "display_name": "Python 3",
   "language": "python",
   "name": "python3"
  },
  "language_info": {
   "codemirror_mode": {
    "name": "ipython",
    "version": 3
   },
   "file_extension": ".py",
   "mimetype": "text/x-python",
   "name": "python",
   "nbconvert_exporter": "python",
   "pygments_lexer": "ipython3",
   "version": "3.7.6"
  }
 },
 "nbformat": 4,
 "nbformat_minor": 4
}
