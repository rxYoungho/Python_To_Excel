{
 "cells": [
  {
   "cell_type": "markdown",
   "metadata": {},
   "source": [
    "# 파이썬 기초\n"
   ]
  },
  {
   "cell_type": "code",
   "execution_count": null,
   "metadata": {},
   "outputs": [],
   "source": [
    "#예제\n",
    "\"\"\"\n",
    "N줄을 코멘트로 사용가능\n",
    "\"\"\"\n",
    "#g한줄\n",
    "def selection_sort(A):\n",
    "    for i in range(len(A)):\n",
    "        minIndex = i\n",
    "        for j in range(i+1, len(A)):\n",
    "            if A[j] < A[minIndex]:\n",
    "                minIndex = j\n",
    "        if minIndex != i:\n",
    "            A[i], A[minIndex] = A[minIndex], A[i]\n",
    "    return A\n",
    "\n",
    "A = [6,2,4,6,7,8,98,122,1,2,4,6,65]\n",
    "\n",
    "print(selection_sort(A))\n",
    "\n",
    "x = 1\n",
    "\n",
    "xyz =1\n",
    "\n",
    "김영호 = \"김영호\"\n",
    "\n",
    "younghoKim =\"김영호\"\n"
   ]
  },
  {
   "cell_type": "markdown",
   "metadata": {},
   "source": [
    "#들여쓰기 : 파이썬의 가장 기본적인 코드 묶음 방식\n",
    "#주석처리 : # 또는 \"\"\"\n",
    "#변수 : Variable, 값이 변하는 수\n",
    "#변수이름 선언 : x, y, z, minIndex, youAndI ...\n"
   ]
  },
  {
   "cell_type": "code",
   "execution_count": 125,
   "metadata": {},
   "outputs": [
    {
     "name": "stdout",
     "output_type": "stream",
     "text": [
      "가\n",
      "다라\n",
      "다라마\n",
      "다라마바사아자차카타파하\n",
      "하\n",
      "가나다라마바사아자차카타파\n"
     ]
    },
    {
     "data": {
      "text/plain": [
       "'\\ninteger -> 정수 1,2,3,4 -1 -2 -3\\nfloat -> 소수 0.001\\nstring -> 문자열, \"가\" -> \"가나다\", \"가나\", \"abcd\"\\ncharacter -> \"가\", \"나\", \"A\", \"B\" \\n'"
      ]
     },
     "execution_count": 125,
     "metadata": {},
     "output_type": "execute_result"
    }
   ],
   "source": [
    "\"\"\"\n",
    "기본 문법 1. \n",
    "\"\"\"\n",
    "# 문자열 데이터\n",
    "string1 = '가나다라마바사아자차카타파하'\n",
    "print(string1[0])\n",
    "print(string1[2:4]) # 2,3\n",
    "print(string1[2:5]) # 2,3,4\n",
    "print(string1[2:]) #2부터 끝까지\n",
    "print(string1[-1]) #맨 마지막 element 또는 value \n",
    "print(string1[:-1]) #처음 부터 마지막전까지\n",
    "\"\"\"\n",
    "index의 개념에서\n",
    "\n",
    "0이 첫번째!\n",
    "1이 두번째에요.\n",
    "\n",
    "\"\"\"\n",
    "\n",
    "# 숫자형 데이터\n",
    "\"\"\"\n",
    "integer -> 정수 1,2,3,4 -1 -2 -3\n",
    "float -> 소수 0.001\n",
    "string -> 문자열, \"가\" -> \"가나다\", \"가나\", \"abcd\"\n",
    "character -> \"가\", \"나\", \"A\", \"B\" \n",
    "\"\"\""
   ]
  },
  {
   "cell_type": "markdown",
   "metadata": {},
   "source": [
    "# 리스트 List\n"
   ]
  },
  {
   "cell_type": "code",
   "execution_count": 135,
   "metadata": {},
   "outputs": [],
   "source": [
    "list1 = [1,2,3,4,5,6] #Array \n",
    "\n",
    "# 나열되는 방식\n",
    "\n",
    "list2 = ['가', '나', '다']\n"
   ]
  },
  {
   "cell_type": "code",
   "execution_count": 137,
   "metadata": {},
   "outputs": [
    {
     "name": "stdout",
     "output_type": "stream",
     "text": [
      "[1, 2, 3, 4, 5, 6]\n",
      "['가', '나', '다']\n",
      "3\n",
      "[4, 5, 6]\n",
      "[1, 2, 3, 4, 5]\n",
      "[1, 2, 3, 4, 5]\n",
      "나\n",
      "['가', '나', '다']\n",
      "['가', '나', '다']\n"
     ]
    }
   ],
   "source": [
    "print(list1)\n",
    "print(list2)\n",
    "print(list1[2])\n",
    "print(list1[3:])\n",
    "print(list1[0:5]) #마지막 -1 까지\n",
    "print(list1[:-1])\n",
    "print(list2[1])\n",
    "print(list2[:])\n",
    "print(list2)\n",
    "# 인덱스"
   ]
  },
  {
   "cell_type": "markdown",
   "metadata": {},
   "source": [
    "# Tuple 튜플"
   ]
  },
  {
   "cell_type": "code",
   "execution_count": 141,
   "metadata": {},
   "outputs": [
    {
     "name": "stdout",
     "output_type": "stream",
     "text": [
      "('abcd', 1234)\n",
      "abcd\n",
      "('abcd', 1234)\n"
     ]
    }
   ],
   "source": [
    "tuple1 = \"abcd\", 1234\n",
    "print(tuple1)\n",
    "print(tuple1[0])\n",
    "print(tuple1[:])"
   ]
  },
  {
   "cell_type": "code",
   "execution_count": 142,
   "metadata": {},
   "outputs": [
    {
     "name": "stdout",
     "output_type": "stream",
     "text": [
      "(('abcd', 1234), (4, 5, 6, 7))\n"
     ]
    }
   ],
   "source": [
    "tuple2 = tuple1, (4,5,6,7)\n",
    "print(tuple2)"
   ]
  },
  {
   "cell_type": "code",
   "execution_count": 143,
   "metadata": {},
   "outputs": [
    {
     "name": "stdout",
     "output_type": "stream",
     "text": [
      "('abcd', 1234)\n",
      "abcd\n"
     ]
    }
   ],
   "source": [
    "print(tuple2[0])\n",
    "print(tuple1[0])"
   ]
  },
  {
   "cell_type": "markdown",
   "metadata": {},
   "source": [
    "# Dictionary 딕셔너리\n"
   ]
  },
  {
   "cell_type": "code",
   "execution_count": 144,
   "metadata": {},
   "outputs": [],
   "source": [
    "data = { #unique key를 가지고있다.\n",
    "    \"id\" : \"admin\",\n",
    "    \"pwd\" : \"qwe123\",\n",
    "    \"email\" : \"dannyinsuny@gmail.com\"\n",
    "}"
   ]
  },
  {
   "cell_type": "code",
   "execution_count": 150,
   "metadata": {},
   "outputs": [
    {
     "data": {
      "text/plain": [
       "dict_keys(['id', 'pwd', 'email'])"
      ]
     },
     "execution_count": 150,
     "metadata": {},
     "output_type": "execute_result"
    }
   ],
   "source": [
    "data.keys()"
   ]
  },
  {
   "cell_type": "code",
   "execution_count": 151,
   "metadata": {},
   "outputs": [
    {
     "data": {
      "text/plain": [
       "dict_values(['admin', 'qwe123', 'dannyinsuny@gmail.com'])"
      ]
     },
     "execution_count": 151,
     "metadata": {},
     "output_type": "execute_result"
    }
   ],
   "source": [
    "data.values()"
   ]
  },
  {
   "cell_type": "code",
   "execution_count": 153,
   "metadata": {},
   "outputs": [
    {
     "data": {
      "text/plain": [
       "dict_items([('id', 'admin'), ('pwd', 'qwe123'), ('email', 'dannyinsuny@gmail.com')])"
      ]
     },
     "execution_count": 153,
     "metadata": {},
     "output_type": "execute_result"
    }
   ],
   "source": [
    "data.items()"
   ]
  },
  {
   "cell_type": "code",
   "execution_count": null,
   "metadata": {},
   "outputs": [],
   "source": []
  },
  {
   "cell_type": "code",
   "execution_count": null,
   "metadata": {},
   "outputs": [],
   "source": []
  },
  {
   "cell_type": "code",
   "execution_count": null,
   "metadata": {},
   "outputs": [],
   "source": []
  },
  {
   "cell_type": "code",
   "execution_count": 154,
   "metadata": {},
   "outputs": [
    {
     "name": "stdout",
     "output_type": "stream",
     "text": [
      "id\n",
      "pwd\n",
      "email\n"
     ]
    }
   ],
   "source": [
    "for i in data.keys():\n",
    "    print(i)\n",
    "    \n",
    "#for ~동안에 "
   ]
  },
  {
   "cell_type": "code",
   "execution_count": 155,
   "metadata": {},
   "outputs": [
    {
     "name": "stdout",
     "output_type": "stream",
     "text": [
      "id admin\n",
      "pwd qwe123\n",
      "email dannyinsuny@gmail.com\n"
     ]
    }
   ],
   "source": [
    "for i, x in data.items():\n",
    "    print(i, x)"
   ]
  },
  {
   "cell_type": "code",
   "execution_count": null,
   "metadata": {},
   "outputs": [],
   "source": [
    "numList = [400000, 1200000, 2000000, 2500000, 400000]\n",
    "#40만원, 120만원, 200만원, 250만원의 리스트\n",
    "\n",
    "#for loop 돌리면서 만약 첫번째 값이 두번째 값보다 크면 print(\"ㅁㄴㅇㅁㄴㅇ\")\n",
    "    #만약 1번째 값과 마지막 값이 같으면 print(\"ㅁㄴㅇㅁㄴㅇ\")\n",
    "\n",
    "#     if a==b:\n",
    "#     if a > b:\n",
    "#     if a < b:\n",
    "#     if a >= b:\n",
    "#     if a <= b:\n",
    "#     if a != b:\n"
   ]
  },
  {
   "cell_type": "markdown",
   "metadata": {},
   "source": [
    "# OpenPyXL\n"
   ]
  },
  {
   "cell_type": "code",
   "execution_count": 173,
   "metadata": {},
   "outputs": [],
   "source": [
    "import openpyxl\n",
    "#library -> lib \n",
    "\n",
    "wb = openpyxl.load_workbook('데이터 1.xlsx')\n",
    "wb2 = openpyxl.load_workbook('데이터 2.xlsx')\n"
   ]
  },
  {
   "cell_type": "code",
   "execution_count": 174,
   "metadata": {},
   "outputs": [
    {
     "data": {
      "text/plain": [
       "['1. 재무상태표', '2. 열판매']"
      ]
     },
     "execution_count": 174,
     "metadata": {},
     "output_type": "execute_result"
    }
   ],
   "source": [
    "wb.sheetnames\n",
    "wb2.sheetnames"
   ]
  },
  {
   "cell_type": "code",
   "execution_count": 175,
   "metadata": {},
   "outputs": [],
   "source": [
    "sheet = wb[\"1. 재무상태표\"]\n"
   ]
  },
  {
   "cell_type": "code",
   "execution_count": 176,
   "metadata": {},
   "outputs": [
    {
     "name": "stdout",
     "output_type": "stream",
     "text": [
      "현금및현금성자산\n"
     ]
    }
   ],
   "source": [
    "a = sheet['C7'].value\n",
    "print(a)"
   ]
  },
  {
   "cell_type": "code",
   "execution_count": 160,
   "metadata": {},
   "outputs": [
    {
     "data": {
      "text/plain": [
       "'E열 23행'"
      ]
     },
     "execution_count": 160,
     "metadata": {},
     "output_type": "execute_result"
    }
   ],
   "source": [
    "sheet['E8'].value"
   ]
  },
  {
   "cell_type": "code",
   "execution_count": null,
   "metadata": {},
   "outputs": [],
   "source": [
    "a = 값\n",
    "b = 값\n",
    "c = 값"
   ]
  },
  {
   "cell_type": "code",
   "execution_count": 168,
   "metadata": {},
   "outputs": [
    {
     "data": {
      "text/plain": [
       "((<Cell '1. 재무상태표'.C7>,\n",
       "  <Cell '1. 재무상태표'.D7>,\n",
       "  <Cell '1. 재무상태표'.E7>,\n",
       "  <Cell '1. 재무상태표'.F7>,\n",
       "  <Cell '1. 재무상태표'.G7>,\n",
       "  <Cell '1. 재무상태표'.H7>,\n",
       "  <Cell '1. 재무상태표'.I7>,\n",
       "  <Cell '1. 재무상태표'.J7>,\n",
       "  <Cell '1. 재무상태표'.K7>,\n",
       "  <Cell '1. 재무상태표'.L7>,\n",
       "  <Cell '1. 재무상태표'.M7>,\n",
       "  <Cell '1. 재무상태표'.N7>,\n",
       "  <Cell '1. 재무상태표'.O7>,\n",
       "  <Cell '1. 재무상태표'.P7>),\n",
       " (<Cell '1. 재무상태표'.C8>,\n",
       "  <Cell '1. 재무상태표'.D8>,\n",
       "  <Cell '1. 재무상태표'.E8>,\n",
       "  <Cell '1. 재무상태표'.F8>,\n",
       "  <Cell '1. 재무상태표'.G8>,\n",
       "  <Cell '1. 재무상태표'.H8>,\n",
       "  <Cell '1. 재무상태표'.I8>,\n",
       "  <Cell '1. 재무상태표'.J8>,\n",
       "  <Cell '1. 재무상태표'.K8>,\n",
       "  <Cell '1. 재무상태표'.L8>,\n",
       "  <Cell '1. 재무상태표'.M8>,\n",
       "  <Cell '1. 재무상태표'.N8>,\n",
       "  <Cell '1. 재무상태표'.O8>,\n",
       "  <Cell '1. 재무상태표'.P8>))"
      ]
     },
     "execution_count": 168,
     "metadata": {},
     "output_type": "execute_result"
    }
   ],
   "source": [
    "multi_cells = sheet['C7':'P8']\n",
    "#2줄을 멀티셀이라는 변수에 저장\n",
    "multi_cells"
   ]
  },
  {
   "cell_type": "code",
   "execution_count": 165,
   "metadata": {},
   "outputs": [
    {
     "name": "stdout",
     "output_type": "stream",
     "text": [
      "현금및현금성자산\n",
      "None\n",
      "None\n",
      "None\n",
      "None\n",
      "None\n",
      "None\n",
      "None\n",
      "None\n",
      "None\n",
      "None\n",
      "None\n",
      "매출채권\n",
      "None\n",
      "E열 23행\n",
      "None\n",
      "None\n",
      "None\n",
      "None\n",
      "None\n",
      "None\n",
      "None\n",
      "None\n",
      "None\n"
     ]
    }
   ],
   "source": [
    "for row in multi_cells:\n",
    "    for i in range(12):\n",
    "        print(row[i].value)"
   ]
  },
  {
   "cell_type": "code",
   "execution_count": 169,
   "metadata": {},
   "outputs": [
    {
     "name": "stdout",
     "output_type": "stream",
     "text": [
      "['추정재무상태표 (단위 : 백만원)', None, None, None, None, None, None, None, None, None, None, None, None, None, None, None, None]\n",
      "[None, None, None, '=10^6', None, None, None, None, None, None, None, None, None, None, None, None, None]\n",
      "['구분', None, None, None, 2020, 2020, 2020, 2020, 2020, 2020, 2020, 2020, 2020, 2020, 2020, 2020, 2020]\n",
      "[None, None, None, None, 1, 2, 3, 4, 5, 6, 7, 8, 9, 10, 11, 12, None]\n",
      "[None, None, None, None, None, None, None, None, None, None, None, None, None, None, None, None, None]\n",
      "[None, 'Ⅰ. 유동자산', None, None, None, None, None, None, None, None, None, None, None, None, None, None, None]\n",
      "[None, None, '현금및현금성자산', None, None, None, None, None, None, None, None, None, None, None, None, None, None]\n",
      "[None, None, '매출채권', None, 'E열 23행', None, None, None, None, None, None, None, None, None, None, None, None]\n",
      "[None, None, None, '대손충당금', None, None, None, None, None, None, None, None, None, None, None, None, None]\n",
      "[None, None, '미수금', None, None, None, None, None, None, None, None, None, None, None, None, None, None]\n",
      "[None, None, None, '대손충당금', None, None, None, None, None, None, None, None, None, None, None, None, None]\n",
      "[None, None, '재고자산', None, None, None, None, None, None, None, None, None, None, None, None, None, None]\n",
      "[None, None, '유동비금융자산', None, 'F37', None, None, None, None, None, None, None, None, None, None, None, None]\n",
      "[None, None, '단기대여금', None, None, None, None, None, None, None, None, None, None, None, None, None, None]\n",
      "[None, None, '유동성장기대여금', None, None, None, None, None, None, None, None, None, None, None, None, None, None]\n",
      "[None, None, '기타', None, 'F17+F27+F29', None, None, None, None, None, None, None, None, None, None, None, None]\n",
      "[None, 'Ⅱ. 비유동자산', None, None, None, None, None, None, None, None, None, None, None, None, None, None, None]\n",
      "[None, None, '비유동금융자산', '(장기대여금 제외)', 'F45', None, None, None, None, None, None, None, None, None, None, None, None]\n",
      "[None, None, '장기대여금', None, 'F46', None, None, None, None, None, None, None, None, None, None, None, None]\n",
      "[None, None, '유형자산', None, None, None, None, None, None, None, None, None, None, None, None, None, None]\n",
      "[None, None, None, '토지', None, None, None, None, None, None, None, None, None, None, None, None, None]\n",
      "[None, None, None, '건물', None, None, None, None, None, None, None, None, None, None, None, None, None]\n",
      "[None, None, None, '  감가상각누계액', None, None, None, None, None, None, None, None, None, None, None, None, None]\n",
      "[None, None, None, '구축물', None, None, None, None, None, None, None, None, None, None, None, None, None]\n",
      "[None, None, None, '  감가상각누계액', None, None, None, None, None, None, None, None, None, None, None, None, None]\n",
      "[None, None, None, '기계장치', None, None, None, None, None, None, None, None, None, None, None, None, None]\n",
      "[None, None, None, '  감가상각누계액', None, None, None, None, None, None, None, None, None, None, None, None, None]\n",
      "[None, None, None, '건설중인자산', None, None, None, None, None, None, None, None, None, None, None, None, None]\n",
      "[None, None, None, '기타의 유형자산', None, None, None, None, None, None, None, None, None, None, None, None, None]\n",
      "[None, None, None, '  감가상각누계액', None, None, None, None, None, None, None, None, None, None, None, None, None]\n",
      "[None, None, '무형자산', None, None, None, None, None, None, None, None, None, None, None, None, None, None]\n",
      "[None, None, None, '공동구시설이용권', None, None, None, None, None, None, None, None, None, None, None, None, None]\n",
      "[None, None, None, '  감가상각누계액', None, None, None, None, None, None, None, None, None, None, None, None, None]\n",
      "[None, None, None, '가스시설이용권', None, None, None, None, None, None, None, None, None, None, None, None, None]\n",
      "[None, None, None, '  감가상각누계액', None, None, None, None, None, None, None, None, None, None, None, None, None]\n",
      "[None, None, None, '수도시설이용권', None, None, None, None, None, None, None, None, None, None, None, None, None]\n",
      "[None, None, None, '  감가상각누계액', None, None, None, None, None, None, None, None, None, None, None, None, None]\n",
      "[None, None, None, '기타의 무형자산', None, None, None, None, None, None, None, None, None, None, None, None, None]\n",
      "[None, None, None, '  감가상각누계액', None, None, None, None, None, None, None, None, None, None, None, None, None]\n",
      "[None, None, '장기선급비용', None, None, None, None, None, None, None, None, None, None, None, None, None, None]\n",
      "[None, '자산총계', None, None, None, None, None, None, None, None, None, None, None, None, None, None, None]\n",
      "[None, 'Ⅰ. 유동부채', None, None, None, None, None, None, None, None, None, None, None, None, None, None, None]\n",
      "[None, None, '매입채무', None, 'F108', None, None, None, None, None, None, None, None, None, None, None, None]\n",
      "[None, None, '단기차입금', None, None, None, None, None, None, None, None, None, None, None, None, None, None]\n",
      "[None, None, '미지급금', '(CSA미지급금포함)', 'F109', None, None, None, None, None, None, None, None, None, None, None, None]\n",
      "[None, None, '유동성장기미지급금', None, None, None, None, None, None, None, None, None, None, None, None, None, None]\n",
      "[None, None, None, '에스코', None, None, None, None, None, None, None, None, None, None, None, None, None]\n",
      "[None, None, None, '외화', None, None, None, None, None, None, None, None, None, None, None, None, None]\n",
      "[None, None, None, '에너지효율화', None, None, None, None, None, None, None, None, None, None, None, None, None]\n",
      "[None, None, '미지급비용', None, None, None, None, None, None, None, None, None, None, None, None, None, None]\n",
      "[None, None, '유동성장기부채', None, None, None, None, None, None, None, None, None, None, None, None, None, None]\n",
      "[None, None, None, '에특자금', None, None, None, None, None, None, None, None, None, None, None, None, None]\n",
      "[None, None, None, '신한은행', None, None, None, None, None, None, None, None, None, None, None, None, None]\n",
      "[None, None, None, '산업은행', None, None, None, None, None, None, None, None, None, None, None, None, None]\n",
      "[None, None, None, '우리은행', None, None, None, None, None, None, None, None, None, None, None, None, None]\n",
      "[None, None, None, '신규차입(우리대환)', None, None, None, None, None, None, None, None, None, None, None, None, None]\n",
      "[None, None, '리스부채', None, None, None, None, None, None, None, None, None, None, None, None, None, None]\n",
      "[None, None, '기타', None, '(F113 - F114 - F115) + F120 + F123', None, None, None, None, None, None, None, None, None, None, None, None]\n",
      "[None, 'Ⅱ. 비유동부채', None, None, None, None, None, None, None, None, None, None, None, None, None, None, None]\n",
      "[None, None, '장기차입금', None, None, None, None, None, None, None, None, None, None, None, None, None, None]\n",
      "[None, None, None, '=D52', None, None, None, None, None, None, None, None, None, None, None, None, None]\n",
      "[None, None, None, '신한은행', None, None, None, None, None, None, None, None, None, None, None, None, None]\n",
      "[None, None, None, '산업은행', None, None, None, None, None, None, None, None, None, None, None, None, None]\n",
      "[None, None, None, '우리은행', None, None, None, None, None, None, None, None, None, None, None, None, None]\n",
      "[None, None, None, '신규차입(우리대환)', None, None, None, None, None, None, None, None, None, None, None, None, None]\n",
      "[None, None, '리스부채', None, None, None, None, None, None, None, None, None, None, None, None, None, None]\n",
      "[None, None, '장기성미지급금', None, None, None, None, None, None, None, None, None, None, None, None, None, None]\n",
      "[None, None, None, '에스코', None, None, None, None, None, None, None, None, None, None, None, None, None]\n",
      "[None, None, None, '외화', None, None, None, None, None, None, None, None, None, None, None, None, None]\n",
      "[None, None, None, '에너지효율화', None, None, None, None, None, None, None, None, None, None, None, None, None]\n",
      "[None, None, '퇴직급여충당부채', None, 'E141', None, None, None, None, None, None, None, None, None, None, None, None]\n",
      "[None, None, None, '퇴직연금운용자산', 'E142', None, None, None, None, None, None, None, None, None, None, None, None]\n",
      "[None, None, '이연법인세부채', None, 'F144', None, None, None, None, None, None, None, None, None, None, None, None]\n",
      "[None, None, '이연수익(공사비부담금)', None, 'F151', None, None, None, None, None, None, None, None, None, None, None, None]\n",
      "[None, None, '기타', None, 'F131 - F132', None, None, None, None, None, None, None, None, None, None, None, None]\n",
      "[None, '부채총계', None, None, None, None, None, None, None, None, None, None, None, None, None, None, None]\n",
      "[None, 'Ⅰ. 자본금', None, None, None, None, None, None, None, None, None, None, None, None, None, None, None]\n",
      "[None, None, '보통주자본금', None, None, None, None, None, None, None, None, None, None, None, None, None, None]\n",
      "[None, 'Ⅱ. 자본조정', None, None, None, None, None, None, None, None, None, None, None, None, None, None, None]\n",
      "[None, None, '주식할인발행차금 등', None, None, None, None, None, None, None, None, None, None, None, None, None, None]\n",
      "[None, 'Ⅲ. 이익잉여금', None, None, None, None, None, None, None, None, None, None, None, None, None, None, None]\n",
      "[None, None, '전기이월미처분이익잉여금', None, None, None, None, None, None, None, None, None, None, None, None, None, None]\n",
      "[None, None, None, '당기순이익', None, None, None, None, None, None, None, None, None, None, None, None, None]\n",
      "[None, None, None, '건설비용적립금', None, None, None, None, None, None, None, None, None, None, None, None, None]\n",
      "[None, None, None, '이익준비금', None, None, None, None, None, None, None, None, None, None, None, None, None]\n",
      "[None, None, None, '배당', None, None, None, None, None, None, None, None, None, None, None, None, None]\n",
      "[None, None, '이익준비금', None, None, None, None, None, None, None, None, None, None, None, None, None, None]\n",
      "[None, None, '건설비용적립금', None, None, None, None, None, None, None, None, None, None, None, None, None, None]\n",
      "[None, None, '기타조정', None, None, None, None, None, None, None, None, None, None, None, None, None, None]\n",
      "[None, 'Ⅳ. 기타', None, None, None, None, None, None, None, None, None, None, None, None, None, None, None]\n",
      "[None, None, '기타포괄손익누계액', None, None, None, None, None, None, None, None, None, None, None, None, None, None]\n",
      "[None, '자본총계', None, None, None, None, None, None, None, None, None, None, None, None, None, None, None]\n",
      "[None, '부채및자본총계', None, None, None, None, None, None, None, None, None, None, None, None, None, None, None]\n"
     ]
    }
   ],
   "source": [
    "for row in sheet.rows:\n",
    "    print([col.value for col in row])"
   ]
  },
  {
   "cell_type": "code",
   "execution_count": 170,
   "metadata": {},
   "outputs": [
    {
     "name": "stdout",
     "output_type": "stream",
     "text": [
      "['추정재무상태표 (단위 : 백만원)', None, '구분', None, None, None, None, None, None, None, None, None, None, None, None, None, None, None, None, None, None, None, None, None, None, None, None, None, None, None, None, None, None, None, None, None, None, None, None, None, None, None, None, None, None, None, None, None, None, None, None, None, None, None, None, None, None, None, None, None, None, None, None, None, None, None, None, None, None, None, None, None, None, None, None, None, None, None, None, None, None, None, None, None, None, None, None, None, None, None, None, None, None]\n",
      "[None, None, None, None, None, 'Ⅰ. 유동자산', None, None, None, None, None, None, None, None, None, None, 'Ⅱ. 비유동자산', None, None, None, None, None, None, None, None, None, None, None, None, None, None, None, None, None, None, None, None, None, None, None, '자산총계', 'Ⅰ. 유동부채', None, None, None, None, None, None, None, None, None, None, None, None, None, None, None, None, 'Ⅱ. 비유동부채', None, None, None, None, None, None, None, None, None, None, None, None, None, None, None, None, '부채총계', 'Ⅰ. 자본금', None, 'Ⅱ. 자본조정', None, 'Ⅲ. 이익잉여금', None, None, None, None, None, None, None, None, 'Ⅳ. 기타', None, '자본총계', '부채및자본총계']\n",
      "[None, None, None, None, None, None, '현금및현금성자산', '매출채권', None, '미수금', None, '재고자산', '유동비금융자산', '단기대여금', '유동성장기대여금', '기타', None, '비유동금융자산', '장기대여금', '유형자산', None, None, None, None, None, None, None, None, None, None, '무형자산', None, None, None, None, None, None, None, None, '장기선급비용', None, None, '매입채무', '단기차입금', '미지급금', '유동성장기미지급금', None, None, None, '미지급비용', '유동성장기부채', None, None, None, None, None, '리스부채', '기타', None, '장기차입금', None, None, None, None, None, '리스부채', '장기성미지급금', None, None, None, '퇴직급여충당부채', None, '이연법인세부채', '이연수익(공사비부담금)', '기타', None, None, '보통주자본금', None, '주식할인발행차금 등', None, '전기이월미처분이익잉여금', None, None, None, None, '이익준비금', '건설비용적립금', '기타조정', None, '기타포괄손익누계액', None, None]\n",
      "[None, '=10^6', None, None, None, None, None, None, '대손충당금', None, '대손충당금', None, None, None, None, None, None, '(장기대여금 제외)', None, None, '토지', '건물', '  감가상각누계액', '구축물', '  감가상각누계액', '기계장치', '  감가상각누계액', '건설중인자산', '기타의 유형자산', '  감가상각누계액', None, '공동구시설이용권', '  감가상각누계액', '가스시설이용권', '  감가상각누계액', '수도시설이용권', '  감가상각누계액', '기타의 무형자산', '  감가상각누계액', None, None, None, None, None, '(CSA미지급금포함)', None, '에스코', '외화', '에너지효율화', None, None, '에특자금', '신한은행', '산업은행', '우리은행', '신규차입(우리대환)', None, None, None, None, '=D52', '신한은행', '산업은행', '우리은행', '신규차입(우리대환)', None, None, '에스코', '외화', '에너지효율화', None, '퇴직연금운용자산', None, None, None, None, None, None, None, None, None, None, '당기순이익', '건설비용적립금', '이익준비금', '배당', None, None, None, None, None, None, None]\n",
      "[None, None, 2020, 1, None, None, None, 'E열 23행', None, None, None, None, 'F37', None, None, 'F17+F27+F29', None, 'F45', 'F46', None, None, None, None, None, None, None, None, None, None, None, None, None, None, None, None, None, None, None, None, None, None, None, 'F108', None, 'F109', None, None, None, None, None, None, None, None, None, None, None, None, '(F113 - F114 - F115) + F120 + F123', None, None, None, None, None, None, None, None, None, None, None, None, 'E141', 'E142', 'F144', 'F151', 'F131 - F132', None, None, None, None, None, None, None, None, None, None, None, None, None, None, None, None, None, None]\n",
      "[None, None, 2020, 2, None, None, None, None, None, None, None, None, None, None, None, None, None, None, None, None, None, None, None, None, None, None, None, None, None, None, None, None, None, None, None, None, None, None, None, None, None, None, None, None, None, None, None, None, None, None, None, None, None, None, None, None, None, None, None, None, None, None, None, None, None, None, None, None, None, None, None, None, None, None, None, None, None, None, None, None, None, None, None, None, None, None, None, None, None, None, None, None, None]\n",
      "[None, None, 2020, 3, None, None, None, None, None, None, None, None, None, None, None, None, None, None, None, None, None, None, None, None, None, None, None, None, None, None, None, None, None, None, None, None, None, None, None, None, None, None, None, None, None, None, None, None, None, None, None, None, None, None, None, None, None, None, None, None, None, None, None, None, None, None, None, None, None, None, None, None, None, None, None, None, None, None, None, None, None, None, None, None, None, None, None, None, None, None, None, None, None]\n",
      "[None, None, 2020, 4, None, None, None, None, None, None, None, None, None, None, None, None, None, None, None, None, None, None, None, None, None, None, None, None, None, None, None, None, None, None, None, None, None, None, None, None, None, None, None, None, None, None, None, None, None, None, None, None, None, None, None, None, None, None, None, None, None, None, None, None, None, None, None, None, None, None, None, None, None, None, None, None, None, None, None, None, None, None, None, None, None, None, None, None, None, None, None, None, None]\n",
      "[None, None, 2020, 5, None, None, None, None, None, None, None, None, None, None, None, None, None, None, None, None, None, None, None, None, None, None, None, None, None, None, None, None, None, None, None, None, None, None, None, None, None, None, None, None, None, None, None, None, None, None, None, None, None, None, None, None, None, None, None, None, None, None, None, None, None, None, None, None, None, None, None, None, None, None, None, None, None, None, None, None, None, None, None, None, None, None, None, None, None, None, None, None, None]\n",
      "[None, None, 2020, 6, None, None, None, None, None, None, None, None, None, None, None, None, None, None, None, None, None, None, None, None, None, None, None, None, None, None, None, None, None, None, None, None, None, None, None, None, None, None, None, None, None, None, None, None, None, None, None, None, None, None, None, None, None, None, None, None, None, None, None, None, None, None, None, None, None, None, None, None, None, None, None, None, None, None, None, None, None, None, None, None, None, None, None, None, None, None, None, None, None]\n",
      "[None, None, 2020, 7, None, None, None, None, None, None, None, None, None, None, None, None, None, None, None, None, None, None, None, None, None, None, None, None, None, None, None, None, None, None, None, None, None, None, None, None, None, None, None, None, None, None, None, None, None, None, None, None, None, None, None, None, None, None, None, None, None, None, None, None, None, None, None, None, None, None, None, None, None, None, None, None, None, None, None, None, None, None, None, None, None, None, None, None, None, None, None, None, None]\n",
      "[None, None, 2020, 8, None, None, None, None, None, None, None, None, None, None, None, None, None, None, None, None, None, None, None, None, None, None, None, None, None, None, None, None, None, None, None, None, None, None, None, None, None, None, None, None, None, None, None, None, None, None, None, None, None, None, None, None, None, None, None, None, None, None, None, None, None, None, None, None, None, None, None, None, None, None, None, None, None, None, None, None, None, None, None, None, None, None, None, None, None, None, None, None, None]\n",
      "[None, None, 2020, 9, None, None, None, None, None, None, None, None, None, None, None, None, None, None, None, None, None, None, None, None, None, None, None, None, None, None, None, None, None, None, None, None, None, None, None, None, None, None, None, None, None, None, None, None, None, None, None, None, None, None, None, None, None, None, None, None, None, None, None, None, None, None, None, None, None, None, None, None, None, None, None, None, None, None, None, None, None, None, None, None, None, None, None, None, None, None, None, None, None]\n",
      "[None, None, 2020, 10, None, None, None, None, None, None, None, None, None, None, None, None, None, None, None, None, None, None, None, None, None, None, None, None, None, None, None, None, None, None, None, None, None, None, None, None, None, None, None, None, None, None, None, None, None, None, None, None, None, None, None, None, None, None, None, None, None, None, None, None, None, None, None, None, None, None, None, None, None, None, None, None, None, None, None, None, None, None, None, None, None, None, None, None, None, None, None, None, None]\n",
      "[None, None, 2020, 11, None, None, None, None, None, None, None, None, None, None, None, None, None, None, None, None, None, None, None, None, None, None, None, None, None, None, None, None, None, None, None, None, None, None, None, None, None, None, None, None, None, None, None, None, None, None, None, None, None, None, None, None, None, None, None, None, None, None, None, None, None, None, None, None, None, None, None, None, None, None, None, None, None, None, None, None, None, None, None, None, None, None, None, None, None, None, None, None, None]\n",
      "[None, None, 2020, 12, None, None, None, None, None, None, None, None, None, None, None, None, None, None, None, None, None, None, None, None, None, None, None, None, None, None, None, None, None, None, None, None, None, None, None, None, None, None, None, None, None, None, None, None, None, None, None, None, None, None, None, None, None, None, None, None, None, None, None, None, None, None, None, None, None, None, None, None, None, None, None, None, None, None, None, None, None, None, None, None, None, None, None, None, None, None, None, None, None]\n",
      "[None, None, 2020, None, None, None, None, None, None, None, None, None, None, None, None, None, None, None, None, None, None, None, None, None, None, None, None, None, None, None, None, None, None, None, None, None, None, None, None, None, None, None, None, None, None, None, None, None, None, None, None, None, None, None, None, None, None, None, None, None, None, None, None, None, None, None, None, None, None, None, None, None, None, None, None, None, None, None, None, None, None, None, None, None, None, None, None, None, None, None, None, None, None]\n"
     ]
    }
   ],
   "source": [
    "for col in sheet.columns:\n",
    "    print([r.value for r in col])"
   ]
  },
  {
   "cell_type": "code",
   "execution_count": null,
   "metadata": {},
   "outputs": [],
   "source": []
  },
  {
   "cell_type": "code",
   "execution_count": null,
   "metadata": {},
   "outputs": [],
   "source": []
  },
  {
   "cell_type": "markdown",
   "metadata": {},
   "source": [
    "\n"
   ]
  },
  {
   "cell_type": "code",
   "execution_count": null,
   "metadata": {},
   "outputs": [],
   "source": []
  },
  {
   "cell_type": "code",
   "execution_count": null,
   "metadata": {},
   "outputs": [],
   "source": []
  },
  {
   "cell_type": "code",
   "execution_count": null,
   "metadata": {},
   "outputs": [],
   "source": []
  },
  {
   "cell_type": "code",
   "execution_count": null,
   "metadata": {},
   "outputs": [],
   "source": []
  },
  {
   "cell_type": "code",
   "execution_count": null,
   "metadata": {},
   "outputs": [],
   "source": []
  },
  {
   "cell_type": "code",
   "execution_count": null,
   "metadata": {},
   "outputs": [],
   "source": []
  },
  {
   "cell_type": "code",
   "execution_count": null,
   "metadata": {},
   "outputs": [],
   "source": []
  },
  {
   "cell_type": "code",
   "execution_count": null,
   "metadata": {},
   "outputs": [],
   "source": []
  },
  {
   "cell_type": "code",
   "execution_count": null,
   "metadata": {},
   "outputs": [],
   "source": []
  },
  {
   "cell_type": "code",
   "execution_count": null,
   "metadata": {},
   "outputs": [],
   "source": []
  },
  {
   "cell_type": "code",
   "execution_count": null,
   "metadata": {},
   "outputs": [],
   "source": []
  },
  {
   "cell_type": "code",
   "execution_count": null,
   "metadata": {},
   "outputs": [],
   "source": []
  }
 ],
 "metadata": {
  "kernelspec": {
   "display_name": "Python 3",
   "language": "python",
   "name": "python3"
  },
  "language_info": {
   "codemirror_mode": {
    "name": "ipython",
    "version": 3
   },
   "file_extension": ".py",
   "mimetype": "text/x-python",
   "name": "python",
   "nbconvert_exporter": "python",
   "pygments_lexer": "ipython3",
   "version": "3.7.6"
  }
 },
 "nbformat": 4,
 "nbformat_minor": 4
}
